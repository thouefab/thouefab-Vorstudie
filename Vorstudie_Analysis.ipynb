{
 "cells": [
  {
   "cell_type": "code",
   "execution_count": 1,
   "metadata": {},
   "outputs": [],
   "source": [
    "#import libraries\n",
    "import pandas as pd\n",
    "import numpy as np\n",
    "import sqlite3 as sql\n"
   ]
  },
  {
   "cell_type": "code",
   "execution_count": 2,
   "metadata": {},
   "outputs": [],
   "source": [
    "#create database connection\n",
    "database = \"vorstudie.db\"\n",
    "connection = sql.connect(database)"
   ]
  },
  {
   "cell_type": "code",
   "execution_count": 3,
   "metadata": {},
   "outputs": [],
   "source": [
    "query = '''SELECT * FROM review'''"
   ]
  },
  {
   "cell_type": "code",
   "execution_count": 4,
   "metadata": {},
   "outputs": [
    {
     "data": {
      "text/plain": [
       "<bound method NDFrame.head of        Label  Document   Topic  \\\n",
       "0          3         3    half   \n",
       "1          3         3    flaw   \n",
       "2          5         5   shirt   \n",
       "3          2         6     one   \n",
       "4          2         6   dress   \n",
       "...      ...       ...     ...   \n",
       "34336      5     23480   skirt   \n",
       "34337      3     23484     top   \n",
       "34338      3     23485     fit   \n",
       "34339      3     23485  medium   \n",
       "34340      5     23486   dress   \n",
       "\n",
       "                                             Description  Textblob_Polarity  \\\n",
       "0      overall, the top half was comfortable and fit ...           0.157684   \n",
       "1      imo, a major design flaw was the net over laye...           0.054167   \n",
       "2      This shirt is very flattering to all due to th...           0.037500   \n",
       "3      I love tracy reese dresses, but this one is no...           0.350000   \n",
       "4      this dress was very pretty out of the package ...           0.325000   \n",
       "...                                                  ...                ...   \n",
       "34336  the skirt has a slight a-line rather than a ti...           0.018254   \n",
       "34337   This fit well, but the top was very see through.           0.366667   \n",
       "34338               unfortunately the fit isn't perfect.           0.300000   \n",
       "34339  the medium fits my waist perfectly, but was wa...           0.316667   \n",
       "34340  This dress in a lovely platinum is feminine an...           0.520833   \n",
       "\n",
       "       Textblob_Subjectivity  SIA_POS  SIA_Neu  SIA_Neg  SIA_Compound  \n",
       "0                   0.373160    0.248    0.752    0.000        0.6428  \n",
       "1                   0.300000    0.000    1.000    0.000        0.0000  \n",
       "2                   0.337500    0.178    0.822    0.000        0.3804  \n",
       "3                   0.450000    0.167    0.833    0.000        0.3818  \n",
       "4                   1.000000    0.138    0.862    0.000        0.3064  \n",
       "...                      ...      ...      ...      ...           ...  \n",
       "34336               0.284127    0.119    0.881    0.000        0.1901  \n",
       "34337               0.400000    0.440    0.560    0.000        0.5423  \n",
       "34338               0.800000    0.253    0.202    0.545       -0.4401  \n",
       "34339               0.500000    0.126    0.874    0.000        0.3818  \n",
       "34340               0.791667    0.444    0.556    0.000        0.9041  \n",
       "\n",
       "[34341 rows x 10 columns]>"
      ]
     },
     "execution_count": 4,
     "metadata": {},
     "output_type": "execute_result"
    }
   ],
   "source": [
    "newcurev_df = pd.read_sql_query(query, connection)\n",
    "newcurev_df.head"
   ]
  },
  {
   "cell_type": "code",
   "execution_count": 5,
   "metadata": {},
   "outputs": [
    {
     "data": {
      "text/html": [
       "<div>\n",
       "<style scoped>\n",
       "    .dataframe tbody tr th:only-of-type {\n",
       "        vertical-align: middle;\n",
       "    }\n",
       "\n",
       "    .dataframe tbody tr th {\n",
       "        vertical-align: top;\n",
       "    }\n",
       "\n",
       "    .dataframe thead th {\n",
       "        text-align: right;\n",
       "    }\n",
       "</style>\n",
       "<table border=\"1\" class=\"dataframe\">\n",
       "  <thead>\n",
       "    <tr style=\"text-align: right;\">\n",
       "      <th></th>\n",
       "      <th>Label</th>\n",
       "      <th>Document</th>\n",
       "      <th>Topic</th>\n",
       "      <th>Description</th>\n",
       "      <th>Textblob_Polarity</th>\n",
       "      <th>Textblob_Subjectivity</th>\n",
       "      <th>SIA_POS</th>\n",
       "      <th>SIA_Neu</th>\n",
       "      <th>SIA_Neg</th>\n",
       "      <th>SIA_Compound</th>\n",
       "    </tr>\n",
       "  </thead>\n",
       "  <tbody>\n",
       "    <tr>\n",
       "      <th>0</th>\n",
       "      <td>3</td>\n",
       "      <td>3</td>\n",
       "      <td>half</td>\n",
       "      <td>overall, the top half was comfortable and fit ...</td>\n",
       "      <td>0.157684</td>\n",
       "      <td>0.37316</td>\n",
       "      <td>0.248</td>\n",
       "      <td>0.752</td>\n",
       "      <td>0.0</td>\n",
       "      <td>0.6428</td>\n",
       "    </tr>\n",
       "    <tr>\n",
       "      <th>1</th>\n",
       "      <td>3</td>\n",
       "      <td>3</td>\n",
       "      <td>flaw</td>\n",
       "      <td>imo, a major design flaw was the net over laye...</td>\n",
       "      <td>0.054167</td>\n",
       "      <td>0.30000</td>\n",
       "      <td>0.000</td>\n",
       "      <td>1.000</td>\n",
       "      <td>0.0</td>\n",
       "      <td>0.0000</td>\n",
       "    </tr>\n",
       "    <tr>\n",
       "      <th>2</th>\n",
       "      <td>5</td>\n",
       "      <td>5</td>\n",
       "      <td>shirt</td>\n",
       "      <td>This shirt is very flattering to all due to th...</td>\n",
       "      <td>0.037500</td>\n",
       "      <td>0.33750</td>\n",
       "      <td>0.178</td>\n",
       "      <td>0.822</td>\n",
       "      <td>0.0</td>\n",
       "      <td>0.3804</td>\n",
       "    </tr>\n",
       "    <tr>\n",
       "      <th>3</th>\n",
       "      <td>2</td>\n",
       "      <td>6</td>\n",
       "      <td>one</td>\n",
       "      <td>I love tracy reese dresses, but this one is no...</td>\n",
       "      <td>0.350000</td>\n",
       "      <td>0.45000</td>\n",
       "      <td>0.167</td>\n",
       "      <td>0.833</td>\n",
       "      <td>0.0</td>\n",
       "      <td>0.3818</td>\n",
       "    </tr>\n",
       "    <tr>\n",
       "      <th>4</th>\n",
       "      <td>2</td>\n",
       "      <td>6</td>\n",
       "      <td>dress</td>\n",
       "      <td>this dress was very pretty out of the package ...</td>\n",
       "      <td>0.325000</td>\n",
       "      <td>1.00000</td>\n",
       "      <td>0.138</td>\n",
       "      <td>0.862</td>\n",
       "      <td>0.0</td>\n",
       "      <td>0.3064</td>\n",
       "    </tr>\n",
       "  </tbody>\n",
       "</table>\n",
       "</div>"
      ],
      "text/plain": [
       "   Label  Document  Topic                                        Description  \\\n",
       "0      3         3   half  overall, the top half was comfortable and fit ...   \n",
       "1      3         3   flaw  imo, a major design flaw was the net over laye...   \n",
       "2      5         5  shirt  This shirt is very flattering to all due to th...   \n",
       "3      2         6    one  I love tracy reese dresses, but this one is no...   \n",
       "4      2         6  dress  this dress was very pretty out of the package ...   \n",
       "\n",
       "   Textblob_Polarity  Textblob_Subjectivity  SIA_POS  SIA_Neu  SIA_Neg  \\\n",
       "0           0.157684                0.37316    0.248    0.752      0.0   \n",
       "1           0.054167                0.30000    0.000    1.000      0.0   \n",
       "2           0.037500                0.33750    0.178    0.822      0.0   \n",
       "3           0.350000                0.45000    0.167    0.833      0.0   \n",
       "4           0.325000                1.00000    0.138    0.862      0.0   \n",
       "\n",
       "   SIA_Compound  \n",
       "0        0.6428  \n",
       "1        0.0000  \n",
       "2        0.3804  \n",
       "3        0.3818  \n",
       "4        0.3064  "
      ]
     },
     "execution_count": 5,
     "metadata": {},
     "output_type": "execute_result"
    }
   ],
   "source": [
    "newcurev_df.head()"
   ]
  },
  {
   "cell_type": "code",
   "execution_count": 6,
   "metadata": {},
   "outputs": [
    {
     "data": {
      "text/html": [
       "<div>\n",
       "<style scoped>\n",
       "    .dataframe tbody tr th:only-of-type {\n",
       "        vertical-align: middle;\n",
       "    }\n",
       "\n",
       "    .dataframe tbody tr th {\n",
       "        vertical-align: top;\n",
       "    }\n",
       "\n",
       "    .dataframe thead th {\n",
       "        text-align: right;\n",
       "    }\n",
       "</style>\n",
       "<table border=\"1\" class=\"dataframe\">\n",
       "  <thead>\n",
       "    <tr style=\"text-align: right;\">\n",
       "      <th></th>\n",
       "      <th>Label</th>\n",
       "      <th>Document</th>\n",
       "      <th>Topic</th>\n",
       "      <th>Description</th>\n",
       "      <th>Textblob_Polarity</th>\n",
       "      <th>Textblob_Subjectivity</th>\n",
       "      <th>SIA_POS</th>\n",
       "      <th>SIA_Neu</th>\n",
       "      <th>SIA_Neg</th>\n",
       "      <th>SIA_Compound</th>\n",
       "      <th>textblob_polarity</th>\n",
       "    </tr>\n",
       "  </thead>\n",
       "  <tbody>\n",
       "    <tr>\n",
       "      <th>0</th>\n",
       "      <td>3</td>\n",
       "      <td>3</td>\n",
       "      <td>half</td>\n",
       "      <td>overall, the top half was comfortable and fit ...</td>\n",
       "      <td>0.157684</td>\n",
       "      <td>0.37316</td>\n",
       "      <td>0.248</td>\n",
       "      <td>0.752</td>\n",
       "      <td>0.0</td>\n",
       "      <td>0.6428</td>\n",
       "      <td>positive</td>\n",
       "    </tr>\n",
       "    <tr>\n",
       "      <th>1</th>\n",
       "      <td>3</td>\n",
       "      <td>3</td>\n",
       "      <td>flaw</td>\n",
       "      <td>imo, a major design flaw was the net over laye...</td>\n",
       "      <td>0.054167</td>\n",
       "      <td>0.30000</td>\n",
       "      <td>0.000</td>\n",
       "      <td>1.000</td>\n",
       "      <td>0.0</td>\n",
       "      <td>0.0000</td>\n",
       "      <td>neutral</td>\n",
       "    </tr>\n",
       "    <tr>\n",
       "      <th>2</th>\n",
       "      <td>5</td>\n",
       "      <td>5</td>\n",
       "      <td>shirt</td>\n",
       "      <td>This shirt is very flattering to all due to th...</td>\n",
       "      <td>0.037500</td>\n",
       "      <td>0.33750</td>\n",
       "      <td>0.178</td>\n",
       "      <td>0.822</td>\n",
       "      <td>0.0</td>\n",
       "      <td>0.3804</td>\n",
       "      <td>neutral</td>\n",
       "    </tr>\n",
       "    <tr>\n",
       "      <th>3</th>\n",
       "      <td>2</td>\n",
       "      <td>6</td>\n",
       "      <td>one</td>\n",
       "      <td>I love tracy reese dresses, but this one is no...</td>\n",
       "      <td>0.350000</td>\n",
       "      <td>0.45000</td>\n",
       "      <td>0.167</td>\n",
       "      <td>0.833</td>\n",
       "      <td>0.0</td>\n",
       "      <td>0.3818</td>\n",
       "      <td>positive</td>\n",
       "    </tr>\n",
       "    <tr>\n",
       "      <th>4</th>\n",
       "      <td>2</td>\n",
       "      <td>6</td>\n",
       "      <td>dress</td>\n",
       "      <td>this dress was very pretty out of the package ...</td>\n",
       "      <td>0.325000</td>\n",
       "      <td>1.00000</td>\n",
       "      <td>0.138</td>\n",
       "      <td>0.862</td>\n",
       "      <td>0.0</td>\n",
       "      <td>0.3064</td>\n",
       "      <td>positive</td>\n",
       "    </tr>\n",
       "  </tbody>\n",
       "</table>\n",
       "</div>"
      ],
      "text/plain": [
       "   Label  Document  Topic                                        Description  \\\n",
       "0      3         3   half  overall, the top half was comfortable and fit ...   \n",
       "1      3         3   flaw  imo, a major design flaw was the net over laye...   \n",
       "2      5         5  shirt  This shirt is very flattering to all due to th...   \n",
       "3      2         6    one  I love tracy reese dresses, but this one is no...   \n",
       "4      2         6  dress  this dress was very pretty out of the package ...   \n",
       "\n",
       "   Textblob_Polarity  Textblob_Subjectivity  SIA_POS  SIA_Neu  SIA_Neg  \\\n",
       "0           0.157684                0.37316    0.248    0.752      0.0   \n",
       "1           0.054167                0.30000    0.000    1.000      0.0   \n",
       "2           0.037500                0.33750    0.178    0.822      0.0   \n",
       "3           0.350000                0.45000    0.167    0.833      0.0   \n",
       "4           0.325000                1.00000    0.138    0.862      0.0   \n",
       "\n",
       "   SIA_Compound textblob_polarity  \n",
       "0        0.6428          positive  \n",
       "1        0.0000           neutral  \n",
       "2        0.3804           neutral  \n",
       "3        0.3818          positive  \n",
       "4        0.3064          positive  "
      ]
     },
     "execution_count": 6,
     "metadata": {},
     "output_type": "execute_result"
    }
   ],
   "source": [
    "newcurev_df['textblob_polarity'] = np.where(newcurev_df.Textblob_Polarity < -0.1, \n",
    "    'negative', \n",
    "    np.where(newcurev_df.Textblob_Polarity > 0.1, 'positive', 'neutral'))\n",
    "\n",
    "newcurev_df.head()"
   ]
  },
  {
   "cell_type": "code",
   "execution_count": 7,
   "metadata": {},
   "outputs": [
    {
     "data": {
      "text/html": [
       "<div>\n",
       "<style scoped>\n",
       "    .dataframe tbody tr th:only-of-type {\n",
       "        vertical-align: middle;\n",
       "    }\n",
       "\n",
       "    .dataframe tbody tr th {\n",
       "        vertical-align: top;\n",
       "    }\n",
       "\n",
       "    .dataframe thead th {\n",
       "        text-align: right;\n",
       "    }\n",
       "</style>\n",
       "<table border=\"1\" class=\"dataframe\">\n",
       "  <thead>\n",
       "    <tr style=\"text-align: right;\">\n",
       "      <th></th>\n",
       "      <th>Label</th>\n",
       "      <th>Document</th>\n",
       "      <th>Topic</th>\n",
       "      <th>Description</th>\n",
       "      <th>Textblob_Polarity</th>\n",
       "      <th>Textblob_Subjectivity</th>\n",
       "      <th>SIA_POS</th>\n",
       "      <th>SIA_Neu</th>\n",
       "      <th>SIA_Neg</th>\n",
       "      <th>SIA_Compound</th>\n",
       "      <th>textblob_polarity</th>\n",
       "      <th>vader</th>\n",
       "    </tr>\n",
       "  </thead>\n",
       "  <tbody>\n",
       "    <tr>\n",
       "      <th>0</th>\n",
       "      <td>3</td>\n",
       "      <td>3</td>\n",
       "      <td>half</td>\n",
       "      <td>overall, the top half was comfortable and fit ...</td>\n",
       "      <td>0.157684</td>\n",
       "      <td>0.37316</td>\n",
       "      <td>0.248</td>\n",
       "      <td>0.752</td>\n",
       "      <td>0.0</td>\n",
       "      <td>0.6428</td>\n",
       "      <td>positive</td>\n",
       "      <td>positive</td>\n",
       "    </tr>\n",
       "    <tr>\n",
       "      <th>1</th>\n",
       "      <td>3</td>\n",
       "      <td>3</td>\n",
       "      <td>flaw</td>\n",
       "      <td>imo, a major design flaw was the net over laye...</td>\n",
       "      <td>0.054167</td>\n",
       "      <td>0.30000</td>\n",
       "      <td>0.000</td>\n",
       "      <td>1.000</td>\n",
       "      <td>0.0</td>\n",
       "      <td>0.0000</td>\n",
       "      <td>neutral</td>\n",
       "      <td>neutral</td>\n",
       "    </tr>\n",
       "    <tr>\n",
       "      <th>2</th>\n",
       "      <td>5</td>\n",
       "      <td>5</td>\n",
       "      <td>shirt</td>\n",
       "      <td>This shirt is very flattering to all due to th...</td>\n",
       "      <td>0.037500</td>\n",
       "      <td>0.33750</td>\n",
       "      <td>0.178</td>\n",
       "      <td>0.822</td>\n",
       "      <td>0.0</td>\n",
       "      <td>0.3804</td>\n",
       "      <td>neutral</td>\n",
       "      <td>positive</td>\n",
       "    </tr>\n",
       "    <tr>\n",
       "      <th>3</th>\n",
       "      <td>2</td>\n",
       "      <td>6</td>\n",
       "      <td>one</td>\n",
       "      <td>I love tracy reese dresses, but this one is no...</td>\n",
       "      <td>0.350000</td>\n",
       "      <td>0.45000</td>\n",
       "      <td>0.167</td>\n",
       "      <td>0.833</td>\n",
       "      <td>0.0</td>\n",
       "      <td>0.3818</td>\n",
       "      <td>positive</td>\n",
       "      <td>positive</td>\n",
       "    </tr>\n",
       "    <tr>\n",
       "      <th>4</th>\n",
       "      <td>2</td>\n",
       "      <td>6</td>\n",
       "      <td>dress</td>\n",
       "      <td>this dress was very pretty out of the package ...</td>\n",
       "      <td>0.325000</td>\n",
       "      <td>1.00000</td>\n",
       "      <td>0.138</td>\n",
       "      <td>0.862</td>\n",
       "      <td>0.0</td>\n",
       "      <td>0.3064</td>\n",
       "      <td>positive</td>\n",
       "      <td>positive</td>\n",
       "    </tr>\n",
       "  </tbody>\n",
       "</table>\n",
       "</div>"
      ],
      "text/plain": [
       "   Label  Document  Topic                                        Description  \\\n",
       "0      3         3   half  overall, the top half was comfortable and fit ...   \n",
       "1      3         3   flaw  imo, a major design flaw was the net over laye...   \n",
       "2      5         5  shirt  This shirt is very flattering to all due to th...   \n",
       "3      2         6    one  I love tracy reese dresses, but this one is no...   \n",
       "4      2         6  dress  this dress was very pretty out of the package ...   \n",
       "\n",
       "   Textblob_Polarity  Textblob_Subjectivity  SIA_POS  SIA_Neu  SIA_Neg  \\\n",
       "0           0.157684                0.37316    0.248    0.752      0.0   \n",
       "1           0.054167                0.30000    0.000    1.000      0.0   \n",
       "2           0.037500                0.33750    0.178    0.822      0.0   \n",
       "3           0.350000                0.45000    0.167    0.833      0.0   \n",
       "4           0.325000                1.00000    0.138    0.862      0.0   \n",
       "\n",
       "   SIA_Compound textblob_polarity     vader  \n",
       "0        0.6428          positive  positive  \n",
       "1        0.0000           neutral   neutral  \n",
       "2        0.3804           neutral  positive  \n",
       "3        0.3818          positive  positive  \n",
       "4        0.3064          positive  positive  "
      ]
     },
     "execution_count": 7,
     "metadata": {},
     "output_type": "execute_result"
    }
   ],
   "source": [
    "newcurev_df['vader'] = np.where(newcurev_df.SIA_Compound < -0.1, \n",
    "    'negative', \n",
    "    np.where(newcurev_df.SIA_Compound > 0.1, 'positive', 'neutral'))\n",
    "\n",
    "newcurev_df.head()"
   ]
  },
  {
   "cell_type": "code",
   "execution_count": 8,
   "metadata": {},
   "outputs": [
    {
     "data": {
      "text/html": [
       "<div>\n",
       "<style scoped>\n",
       "    .dataframe tbody tr th:only-of-type {\n",
       "        vertical-align: middle;\n",
       "    }\n",
       "\n",
       "    .dataframe tbody tr th {\n",
       "        vertical-align: top;\n",
       "    }\n",
       "\n",
       "    .dataframe thead th {\n",
       "        text-align: right;\n",
       "    }\n",
       "</style>\n",
       "<table border=\"1\" class=\"dataframe\">\n",
       "  <thead>\n",
       "    <tr style=\"text-align: right;\">\n",
       "      <th></th>\n",
       "      <th>Label</th>\n",
       "      <th>Document</th>\n",
       "      <th>Topic</th>\n",
       "      <th>Description</th>\n",
       "      <th>Textblob_Polarity</th>\n",
       "      <th>Textblob_Subjectivity</th>\n",
       "      <th>SIA_POS</th>\n",
       "      <th>SIA_Neu</th>\n",
       "      <th>SIA_Neg</th>\n",
       "      <th>SIA_Compound</th>\n",
       "      <th>textblob_polarity</th>\n",
       "      <th>vader</th>\n",
       "      <th>userrating</th>\n",
       "    </tr>\n",
       "  </thead>\n",
       "  <tbody>\n",
       "    <tr>\n",
       "      <th>0</th>\n",
       "      <td>3</td>\n",
       "      <td>3</td>\n",
       "      <td>half</td>\n",
       "      <td>overall, the top half was comfortable and fit ...</td>\n",
       "      <td>0.157684</td>\n",
       "      <td>0.37316</td>\n",
       "      <td>0.248</td>\n",
       "      <td>0.752</td>\n",
       "      <td>0.0</td>\n",
       "      <td>0.6428</td>\n",
       "      <td>positive</td>\n",
       "      <td>positive</td>\n",
       "      <td>neutral</td>\n",
       "    </tr>\n",
       "    <tr>\n",
       "      <th>1</th>\n",
       "      <td>3</td>\n",
       "      <td>3</td>\n",
       "      <td>flaw</td>\n",
       "      <td>imo, a major design flaw was the net over laye...</td>\n",
       "      <td>0.054167</td>\n",
       "      <td>0.30000</td>\n",
       "      <td>0.000</td>\n",
       "      <td>1.000</td>\n",
       "      <td>0.0</td>\n",
       "      <td>0.0000</td>\n",
       "      <td>neutral</td>\n",
       "      <td>neutral</td>\n",
       "      <td>neutral</td>\n",
       "    </tr>\n",
       "    <tr>\n",
       "      <th>2</th>\n",
       "      <td>5</td>\n",
       "      <td>5</td>\n",
       "      <td>shirt</td>\n",
       "      <td>This shirt is very flattering to all due to th...</td>\n",
       "      <td>0.037500</td>\n",
       "      <td>0.33750</td>\n",
       "      <td>0.178</td>\n",
       "      <td>0.822</td>\n",
       "      <td>0.0</td>\n",
       "      <td>0.3804</td>\n",
       "      <td>neutral</td>\n",
       "      <td>positive</td>\n",
       "      <td>positive</td>\n",
       "    </tr>\n",
       "    <tr>\n",
       "      <th>3</th>\n",
       "      <td>2</td>\n",
       "      <td>6</td>\n",
       "      <td>one</td>\n",
       "      <td>I love tracy reese dresses, but this one is no...</td>\n",
       "      <td>0.350000</td>\n",
       "      <td>0.45000</td>\n",
       "      <td>0.167</td>\n",
       "      <td>0.833</td>\n",
       "      <td>0.0</td>\n",
       "      <td>0.3818</td>\n",
       "      <td>positive</td>\n",
       "      <td>positive</td>\n",
       "      <td>negative</td>\n",
       "    </tr>\n",
       "    <tr>\n",
       "      <th>4</th>\n",
       "      <td>2</td>\n",
       "      <td>6</td>\n",
       "      <td>dress</td>\n",
       "      <td>this dress was very pretty out of the package ...</td>\n",
       "      <td>0.325000</td>\n",
       "      <td>1.00000</td>\n",
       "      <td>0.138</td>\n",
       "      <td>0.862</td>\n",
       "      <td>0.0</td>\n",
       "      <td>0.3064</td>\n",
       "      <td>positive</td>\n",
       "      <td>positive</td>\n",
       "      <td>negative</td>\n",
       "    </tr>\n",
       "  </tbody>\n",
       "</table>\n",
       "</div>"
      ],
      "text/plain": [
       "   Label  Document  Topic                                        Description  \\\n",
       "0      3         3   half  overall, the top half was comfortable and fit ...   \n",
       "1      3         3   flaw  imo, a major design flaw was the net over laye...   \n",
       "2      5         5  shirt  This shirt is very flattering to all due to th...   \n",
       "3      2         6    one  I love tracy reese dresses, but this one is no...   \n",
       "4      2         6  dress  this dress was very pretty out of the package ...   \n",
       "\n",
       "   Textblob_Polarity  Textblob_Subjectivity  SIA_POS  SIA_Neu  SIA_Neg  \\\n",
       "0           0.157684                0.37316    0.248    0.752      0.0   \n",
       "1           0.054167                0.30000    0.000    1.000      0.0   \n",
       "2           0.037500                0.33750    0.178    0.822      0.0   \n",
       "3           0.350000                0.45000    0.167    0.833      0.0   \n",
       "4           0.325000                1.00000    0.138    0.862      0.0   \n",
       "\n",
       "   SIA_Compound textblob_polarity     vader userrating  \n",
       "0        0.6428          positive  positive    neutral  \n",
       "1        0.0000           neutral   neutral    neutral  \n",
       "2        0.3804           neutral  positive   positive  \n",
       "3        0.3818          positive  positive   negative  \n",
       "4        0.3064          positive  positive   negative  "
      ]
     },
     "execution_count": 8,
     "metadata": {},
     "output_type": "execute_result"
    }
   ],
   "source": [
    "newcurev_df['userrating'] = np.where(newcurev_df.Label < 3, \n",
    "    'negative', \n",
    "    np.where(newcurev_df.Label > 3, 'positive', 'neutral'))\n",
    "\n",
    "newcurev_df.head()"
   ]
  },
  {
   "cell_type": "code",
   "execution_count": 9,
   "metadata": {},
   "outputs": [
    {
     "data": {
      "text/plain": [
       "34341"
      ]
     },
     "execution_count": 9,
     "metadata": {},
     "output_type": "execute_result"
    }
   ],
   "source": [
    "#Anzahl Topics\n",
    "topic_amount = newcurev_df[\"Topic\"]\n",
    "topic_amount.count()"
   ]
  },
  {
   "cell_type": "code",
   "execution_count": 77,
   "metadata": {},
   "outputs": [],
   "source": [
    "plotunique_topic = newcurev_df[\"Topic\"].nunique()\n"
   ]
  },
  {
   "cell_type": "code",
   "execution_count": 78,
   "metadata": {},
   "outputs": [
    {
     "data": {
      "text/plain": [
       "dress       2719\n",
       "fabric      1871\n",
       "top         1538\n",
       "color       1261\n",
       "material    1234\n",
       "            ... \n",
       "gem            1\n",
       "practice       1\n",
       "didn?t         1\n",
       "fade           1\n",
       "solution       1\n",
       "Name: Topic, Length: 1967, dtype: int64"
      ]
     },
     "execution_count": 78,
     "metadata": {},
     "output_type": "execute_result"
    }
   ],
   "source": [
    "topic_amount.value_counts()"
   ]
  },
  {
   "cell_type": "code",
   "execution_count": 79,
   "metadata": {},
   "outputs": [],
   "source": [
    "#Variables Creation for Plots\n",
    "topic_user = newcurev_df[\"userrating\"]\n",
    "userpos = topic_user.value_counts()['positive']\n",
    "userneg = topic_user.value_counts()['negative']\n",
    "userneut = topic_user.value_counts()['neutral']\n",
    "\n",
    "topic_vader = newcurev_df[\"vader\"]\n",
    "vaderpos = topic_vader.value_counts()['positive']\n",
    "vaderneg = topic_vader.value_counts()['negative']\n",
    "vaderneut = topic_vader.value_counts()['neutral']\n",
    "\n",
    "topic_textblob = newcurev_df[\"textblob_polarity\"]\n",
    "textblobpos = topic_textblob.value_counts()['positive']\n",
    "textblobneg = topic_textblob.value_counts()['negative']\n",
    "textblobneut = topic_textblob.value_counts()['neutral']"
   ]
  },
  {
   "cell_type": "code",
   "execution_count": 80,
   "metadata": {},
   "outputs": [
    {
     "data": {
      "text/plain": [
       "positive    20764\n",
       "neutral     10215\n",
       "negative     3362\n",
       "Name: textblob_polarity, dtype: int64"
      ]
     },
     "execution_count": 80,
     "metadata": {},
     "output_type": "execute_result"
    }
   ],
   "source": [
    "topic_textblob.value_counts()"
   ]
  },
  {
   "cell_type": "code",
   "execution_count": 81,
   "metadata": {},
   "outputs": [
    {
     "data": {
      "text/plain": [
       "positive    22083\n",
       "neutral      8246\n",
       "negative     4012\n",
       "Name: vader, dtype: int64"
      ]
     },
     "execution_count": 81,
     "metadata": {},
     "output_type": "execute_result"
    }
   ],
   "source": [
    "topic_vader.value_counts()"
   ]
  },
  {
   "cell_type": "code",
   "execution_count": 82,
   "metadata": {},
   "outputs": [
    {
     "data": {
      "text/plain": [
       "positive    25408\n",
       "neutral      4914\n",
       "negative     4019\n",
       "Name: userrating, dtype: int64"
      ]
     },
     "execution_count": 82,
     "metadata": {},
     "output_type": "execute_result"
    }
   ],
   "source": [
    "topic_user.value_counts()"
   ]
  },
  {
   "cell_type": "code",
   "execution_count": 83,
   "metadata": {},
   "outputs": [
    {
     "data": {
      "image/png": "[encoded data removed]",
      "text/plain": [
       "<Figure size 1000x700 with 1 Axes>"
      ]
     },
     "metadata": {},
     "output_type": "display_data"
    }
   ],
   "source": [
    "# Show Userrating Distribution\n",
    "from matplotlib import pyplot as plt\n",
    "import numpy as np\n",
    " \n",
    " \n",
    "# Creating dataset\n",
    "userrating_pieplot = ['negative', 'positive', 'neutral']\n",
    " \n",
    "userpieplot_data = [userneg, userpos, userneut]\n",
    " \n",
    "# Creating plot\n",
    "fig = plt.figure(figsize =(10, 7))\n",
    "plt.pie(userpieplot_data, labels = userrating_pieplot, autopct='%1.0f%%' )\n",
    "\n",
    "#Title Plot\n",
    "plt.title(\"Userrating Topic Sentiment Distribution\")\n",
    " \n",
    "# show plot\n",
    "plt.show()"
   ]
  },
  {
   "cell_type": "code",
   "execution_count": 84,
   "metadata": {},
   "outputs": [
    {
     "data": {
      "image/png": "[encoded data removed]",
      "text/plain": [
       "<Figure size 1000x700 with 1 Axes>"
      ]
     },
     "metadata": {},
     "output_type": "display_data"
    }
   ],
   "source": [
    "# Show Vaderrating Distribution\n",
    "from matplotlib import pyplot as plt\n",
    "import numpy as np\n",
    " \n",
    " \n",
    "# Creating dataset\n",
    "vaderrating_pieplot = ['negative', 'positive', 'neutral']\n",
    " \n",
    "vaderpieplot_data = [vaderneg, vaderpos, vaderneut]\n",
    " \n",
    "# Creating plot\n",
    "fig = plt.figure(figsize =(10, 7))\n",
    "plt.pie(vaderpieplot_data, labels = vaderrating_pieplot, autopct='%1.0f%%')\n",
    "\n",
    "#Title Plot\n",
    "plt.title(\"Vader Topic Sentiment Distribution\") \n",
    " \n",
    "# show plot\n",
    "plt.show()"
   ]
  },
  {
   "cell_type": "code",
   "execution_count": 85,
   "metadata": {},
   "outputs": [
    {
     "data": {
      "image/png": "[encoded data removed]",
      "text/plain": [
       "<Figure size 1000x700 with 1 Axes>"
      ]
     },
     "metadata": {},
     "output_type": "display_data"
    }
   ],
   "source": [
    "# Show Textblob Distribution\n",
    "from matplotlib import pyplot as plt\n",
    "import numpy as np\n",
    " \n",
    "# Creating dataset\n",
    "textblobrating_pieplot = ['negative', 'positive', 'neutral']\n",
    " \n",
    "textblobpieplot_data = [textblobneg, textblobpos, textblobneut]\n",
    " \n",
    "# Creating plot\n",
    "fig = plt.figure(figsize =(10, 7))\n",
    "plt.pie(textblobpieplot_data, labels = textblobrating_pieplot, autopct='%1.0f%%')\n",
    "#Title Plot\n",
    "plt.title(\"Textblob Topic Sentiment Distribution\") \n",
    "# show plot\n",
    "plt.show()"
   ]
  },
  {
   "cell_type": "code",
   "execution_count": 86,
   "metadata": {},
   "outputs": [
    {
     "data": {
      "image/png": "[encoded data removed]",
      "text/plain": [
       "<Figure size 500x500 with 1 Axes>"
      ]
     },
     "metadata": {},
     "output_type": "display_data"
    }
   ],
   "source": [
    "# importing package\n",
    "import matplotlib.pyplot as plt\n",
    "import numpy as np\n",
    "\n",
    "plt.rcParams[\"figure.figsize\"] = (5, 5) \n",
    "# create data\n",
    "x = [\"Topic\"]\n",
    "y1 = np.array(userneg)\n",
    "y2 = np.array([userpos])\n",
    "y3 = np.array([userneut])\n",
    "# y4 = np.array([10, 29, 13, 19])\n",
    " \n",
    "# plot bars in stack manner\n",
    "plt.bar(x, y1, color='r')\n",
    "plt.bar(x, y2, bottom=y1, color='g')\n",
    "plt.bar(x, y3, bottom=y1+y2, color='y')\n",
    "# plt.bar(x, y4, bottom=y1+y2+y3, color='g')\n",
    "plt.xlabel(\"Sentiment\")\n",
    "plt.ylabel(\"Amount\")\n",
    "plt.legend([\"Negative\", \"Positive\", \"Neutral\"])\n",
    "plt.title(\"Userrating Topic Sentiment Distribution\")\n",
    "plt.show()"
   ]
  },
  {
   "cell_type": "code",
   "execution_count": 87,
   "metadata": {},
   "outputs": [
    {
     "data": {
      "image/png": "[encoded data removed]",
      "text/plain": [
       "<Figure size 500x500 with 1 Axes>"
      ]
     },
     "metadata": {},
     "output_type": "display_data"
    }
   ],
   "source": [
    "# importing package\n",
    "import matplotlib.pyplot as plt\n",
    "import numpy as np\n",
    "\n",
    "plt.rcParams[\"figure.figsize\"] = (5, 5) \n",
    "# create data\n",
    "x = [\"Topic\"]\n",
    "y1 = np.array(vaderneg)\n",
    "y2 = np.array([vaderpos])\n",
    "y3 = np.array([vaderneut])\n",
    "# y4 = np.array([10, 29, 13, 19])\n",
    " \n",
    "# plot bars in stack manner\n",
    "plt.bar(x, y1, color='r')\n",
    "plt.bar(x, y2, bottom=y1, color='g')\n",
    "plt.bar(x, y3, bottom=y1+y2, color='y')\n",
    "# plt.bar(x, y4, bottom=y1+y2+y3, color='g')\n",
    "plt.xlabel(\"Sentiment\")\n",
    "plt.ylabel(\"Amount\")\n",
    "plt.legend([\"Negative\", \"Positive\", \"Neutral\"])\n",
    "plt.title(\"Vader Topic Sentiment Distribution\")\n",
    "plt.show()"
   ]
  },
  {
   "cell_type": "code",
   "execution_count": 88,
   "metadata": {},
   "outputs": [
    {
     "data": {
      "image/png": "[encoded data removed]",
      "text/plain": [
       "<Figure size 500x500 with 1 Axes>"
      ]
     },
     "metadata": {},
     "output_type": "display_data"
    }
   ],
   "source": [
    "# importing package\n",
    "import matplotlib.pyplot as plt\n",
    "import numpy as np\n",
    "\n",
    "plt.rcParams[\"figure.figsize\"] = (5, 5) \n",
    "# create data\n",
    "x = [\"Topic\"]\n",
    "y1 = np.array(textblobneg)\n",
    "y2 = np.array([textblobpos])\n",
    "y3 = np.array([textblobneut])\n",
    "# y4 = np.array([10, 29, 13, 19])\n",
    " \n",
    "# plot bars in stack manner\n",
    "plt.bar(x, y1, color='r')\n",
    "plt.bar(x, y2, bottom=y1, color='g')\n",
    "plt.bar(x, y3, bottom=y1+y2, color='y')\n",
    "# plt.bar(x, y4, bottom=y1+y2+y3, color='g')\n",
    "plt.xlabel(\"Sentiment\")\n",
    "plt.ylabel(\"Amount\")\n",
    "plt.legend([\"Negative\", \"Positive\", \"Neutral\"])\n",
    "plt.title(\"Textblob Topic Sentiment Distribution\")\n",
    "plt.show()"
   ]
  },
  {
   "cell_type": "code",
   "execution_count": 89,
   "metadata": {},
   "outputs": [
    {
     "data": {
      "text/html": [
       "<div>\n",
       "<style scoped>\n",
       "    .dataframe tbody tr th:only-of-type {\n",
       "        vertical-align: middle;\n",
       "    }\n",
       "\n",
       "    .dataframe tbody tr th {\n",
       "        vertical-align: top;\n",
       "    }\n",
       "\n",
       "    .dataframe thead th {\n",
       "        text-align: right;\n",
       "    }\n",
       "</style>\n",
       "<table border=\"1\" class=\"dataframe\">\n",
       "  <thead>\n",
       "    <tr style=\"text-align: right;\">\n",
       "      <th></th>\n",
       "      <th>Label</th>\n",
       "      <th>Document</th>\n",
       "      <th>Topic</th>\n",
       "      <th>Description</th>\n",
       "      <th>Textblob_Polarity</th>\n",
       "      <th>Textblob_Subjectivity</th>\n",
       "      <th>SIA_POS</th>\n",
       "      <th>SIA_Neu</th>\n",
       "      <th>SIA_Neg</th>\n",
       "      <th>SIA_Compound</th>\n",
       "      <th>textblob_polarity</th>\n",
       "      <th>vader</th>\n",
       "      <th>userrating</th>\n",
       "      <th>AVG Sentiment</th>\n",
       "    </tr>\n",
       "  </thead>\n",
       "  <tbody>\n",
       "    <tr>\n",
       "      <th>0</th>\n",
       "      <td>3</td>\n",
       "      <td>3</td>\n",
       "      <td>half</td>\n",
       "      <td>overall, the top half was comfortable and fit ...</td>\n",
       "      <td>0.157684</td>\n",
       "      <td>0.37316</td>\n",
       "      <td>0.248</td>\n",
       "      <td>0.752</td>\n",
       "      <td>0.0</td>\n",
       "      <td>0.6428</td>\n",
       "      <td>positive</td>\n",
       "      <td>positive</td>\n",
       "      <td>neutral</td>\n",
       "      <td>0.400242</td>\n",
       "    </tr>\n",
       "    <tr>\n",
       "      <th>1</th>\n",
       "      <td>3</td>\n",
       "      <td>3</td>\n",
       "      <td>flaw</td>\n",
       "      <td>imo, a major design flaw was the net over laye...</td>\n",
       "      <td>0.054167</td>\n",
       "      <td>0.30000</td>\n",
       "      <td>0.000</td>\n",
       "      <td>1.000</td>\n",
       "      <td>0.0</td>\n",
       "      <td>0.0000</td>\n",
       "      <td>neutral</td>\n",
       "      <td>neutral</td>\n",
       "      <td>neutral</td>\n",
       "      <td>0.027083</td>\n",
       "    </tr>\n",
       "    <tr>\n",
       "      <th>2</th>\n",
       "      <td>5</td>\n",
       "      <td>5</td>\n",
       "      <td>shirt</td>\n",
       "      <td>This shirt is very flattering to all due to th...</td>\n",
       "      <td>0.037500</td>\n",
       "      <td>0.33750</td>\n",
       "      <td>0.178</td>\n",
       "      <td>0.822</td>\n",
       "      <td>0.0</td>\n",
       "      <td>0.3804</td>\n",
       "      <td>neutral</td>\n",
       "      <td>positive</td>\n",
       "      <td>positive</td>\n",
       "      <td>0.208950</td>\n",
       "    </tr>\n",
       "    <tr>\n",
       "      <th>3</th>\n",
       "      <td>2</td>\n",
       "      <td>6</td>\n",
       "      <td>one</td>\n",
       "      <td>I love tracy reese dresses, but this one is no...</td>\n",
       "      <td>0.350000</td>\n",
       "      <td>0.45000</td>\n",
       "      <td>0.167</td>\n",
       "      <td>0.833</td>\n",
       "      <td>0.0</td>\n",
       "      <td>0.3818</td>\n",
       "      <td>positive</td>\n",
       "      <td>positive</td>\n",
       "      <td>negative</td>\n",
       "      <td>0.365900</td>\n",
       "    </tr>\n",
       "    <tr>\n",
       "      <th>4</th>\n",
       "      <td>2</td>\n",
       "      <td>6</td>\n",
       "      <td>dress</td>\n",
       "      <td>this dress was very pretty out of the package ...</td>\n",
       "      <td>0.325000</td>\n",
       "      <td>1.00000</td>\n",
       "      <td>0.138</td>\n",
       "      <td>0.862</td>\n",
       "      <td>0.0</td>\n",
       "      <td>0.3064</td>\n",
       "      <td>positive</td>\n",
       "      <td>positive</td>\n",
       "      <td>negative</td>\n",
       "      <td>0.315700</td>\n",
       "    </tr>\n",
       "  </tbody>\n",
       "</table>\n",
       "</div>"
      ],
      "text/plain": [
       "   Label  Document  Topic                                        Description  \\\n",
       "0      3         3   half  overall, the top half was comfortable and fit ...   \n",
       "1      3         3   flaw  imo, a major design flaw was the net over laye...   \n",
       "2      5         5  shirt  This shirt is very flattering to all due to th...   \n",
       "3      2         6    one  I love tracy reese dresses, but this one is no...   \n",
       "4      2         6  dress  this dress was very pretty out of the package ...   \n",
       "\n",
       "   Textblob_Polarity  Textblob_Subjectivity  SIA_POS  SIA_Neu  SIA_Neg  \\\n",
       "0           0.157684                0.37316    0.248    0.752      0.0   \n",
       "1           0.054167                0.30000    0.000    1.000      0.0   \n",
       "2           0.037500                0.33750    0.178    0.822      0.0   \n",
       "3           0.350000                0.45000    0.167    0.833      0.0   \n",
       "4           0.325000                1.00000    0.138    0.862      0.0   \n",
       "\n",
       "   SIA_Compound textblob_polarity     vader userrating  AVG Sentiment  \n",
       "0        0.6428          positive  positive    neutral       0.400242  \n",
       "1        0.0000           neutral   neutral    neutral       0.027083  \n",
       "2        0.3804           neutral  positive   positive       0.208950  \n",
       "3        0.3818          positive  positive   negative       0.365900  \n",
       "4        0.3064          positive  positive   negative       0.315700  "
      ]
     },
     "execution_count": 89,
     "metadata": {},
     "output_type": "execute_result"
    }
   ],
   "source": [
    "#Following Codes will show Topics per Description or per Document and further show the sentiment \n",
    "#AVG Sentiment\n",
    "\n",
    "\n",
    "newcurev_df['AVG Sentiment'] = (newcurev_df['Textblob_Polarity'] + newcurev_df['SIA_Compound']) / 2\n",
    "newcurev_df.head()"
   ]
  },
  {
   "cell_type": "code",
   "execution_count": 108,
   "metadata": {},
   "outputs": [
    {
     "data": {
      "text/plain": [
       "34341"
      ]
     },
     "execution_count": 108,
     "metadata": {},
     "output_type": "execute_result"
    }
   ],
   "source": [
    "#Total Amount of Sentiments\n",
    "avgamount = newcurev_df['AVG Sentiment']\n",
    "avgamount.count()"
   ]
  },
  {
   "cell_type": "code",
   "execution_count": null,
   "metadata": {},
   "outputs": [],
   "source": [
    "topicquery = '''SELECT \n",
    "        Description,\n",
    "        Document,\n",
    "        (SIA_COMPOUND + Textblob_Polarity)/2 as sentiment,\n",
    "        COUNT(Topic)\n",
    "        \n",
    "        \n",
    "        FROM review\n",
    "        \n",
    "        GROUP BY\n",
    "        Description'''\n"
   ]
  },
  {
   "cell_type": "code",
   "execution_count": null,
   "metadata": {},
   "outputs": [
    {
     "data": {
      "text/html": [
       "<div>\n",
       "<style scoped>\n",
       "    .dataframe tbody tr th:only-of-type {\n",
       "        vertical-align: middle;\n",
       "    }\n",
       "\n",
       "    .dataframe tbody tr th {\n",
       "        vertical-align: top;\n",
       "    }\n",
       "\n",
       "    .dataframe thead th {\n",
       "        text-align: right;\n",
       "    }\n",
       "</style>\n",
       "<table border=\"1\" class=\"dataframe\">\n",
       "  <thead>\n",
       "    <tr style=\"text-align: right;\">\n",
       "      <th></th>\n",
       "      <th>Description</th>\n",
       "      <th>Document</th>\n",
       "      <th>sentiment</th>\n",
       "      <th>COUNT(Topic)</th>\n",
       "    </tr>\n",
       "  </thead>\n",
       "  <tbody>\n",
       "    <tr>\n",
       "      <th>0</th>\n",
       "      <td>\\n\\nlooking at the pictures online, i thought ...</td>\n",
       "      <td>17681</td>\n",
       "      <td>0.000000</td>\n",
       "      <td>1</td>\n",
       "    </tr>\n",
       "    <tr>\n",
       "      <th>1</th>\n",
       "      <td>\\r\\n\\r\\nretailer accepted the return with a ha...</td>\n",
       "      <td>8159</td>\n",
       "      <td>0.529850</td>\n",
       "      <td>1</td>\n",
       "    </tr>\n",
       "    <tr>\n",
       "      <th>2</th>\n",
       "      <td>\\r\\n\\r\\nwanted to love this as the style is ve...</td>\n",
       "      <td>7871</td>\n",
       "      <td>0.014867</td>\n",
       "      <td>1</td>\n",
       "    </tr>\n",
       "    <tr>\n",
       "      <th>3</th>\n",
       "      <td>\\r\\nas the reviewer say, it is very thick wool...</td>\n",
       "      <td>13044</td>\n",
       "      <td>0.200500</td>\n",
       "      <td>1</td>\n",
       "    </tr>\n",
       "    <tr>\n",
       "      <th>4</th>\n",
       "      <td>\\r\\nbought a similar maeve dress last year and...</td>\n",
       "      <td>3979</td>\n",
       "      <td>0.200633</td>\n",
       "      <td>1</td>\n",
       "    </tr>\n",
       "  </tbody>\n",
       "</table>\n",
       "</div>"
      ],
      "text/plain": [
       "                                         Description  Document  sentiment  \\\n",
       "0  \\n\\nlooking at the pictures online, i thought ...     17681   0.000000   \n",
       "1  \\r\\n\\r\\nretailer accepted the return with a ha...      8159   0.529850   \n",
       "2  \\r\\n\\r\\nwanted to love this as the style is ve...      7871   0.014867   \n",
       "3  \\r\\nas the reviewer say, it is very thick wool...     13044   0.200500   \n",
       "4  \\r\\nbought a similar maeve dress last year and...      3979   0.200633   \n",
       "\n",
       "   COUNT(Topic)  \n",
       "0             1  \n",
       "1             1  \n",
       "2             1  \n",
       "3             1  \n",
       "4             1  "
      ]
     },
     "execution_count": 110,
     "metadata": {},
     "output_type": "execute_result"
    }
   ],
   "source": [
    "description_df = pd.read_sql_query(topicquery, connection)\n",
    "description_df.head()"
   ]
  },
  {
   "cell_type": "code",
   "execution_count": null,
   "metadata": {},
   "outputs": [],
   "source": [
    "topicavgdescrquery = '''SELECT AVG(COUNT)\n",
    "                FROM\n",
    "                (SELECT COUNT (*) AS Count\n",
    "                FROM review\n",
    "\n",
    "                GROUP BY\n",
    "                Description\n",
    "                ) as counts'''"
   ]
  },
  {
   "cell_type": "code",
   "execution_count": null,
   "metadata": {},
   "outputs": [
    {
     "data": {
      "text/html": [
       "<div>\n",
       "<style scoped>\n",
       "    .dataframe tbody tr th:only-of-type {\n",
       "        vertical-align: middle;\n",
       "    }\n",
       "\n",
       "    .dataframe tbody tr th {\n",
       "        vertical-align: top;\n",
       "    }\n",
       "\n",
       "    .dataframe thead th {\n",
       "        text-align: right;\n",
       "    }\n",
       "</style>\n",
       "<table border=\"1\" class=\"dataframe\">\n",
       "  <thead>\n",
       "    <tr style=\"text-align: right;\">\n",
       "      <th></th>\n",
       "      <th>AVG(COUNT)</th>\n",
       "    </tr>\n",
       "  </thead>\n",
       "  <tbody>\n",
       "    <tr>\n",
       "      <th>0</th>\n",
       "      <td>1.012173</td>\n",
       "    </tr>\n",
       "  </tbody>\n",
       "</table>\n",
       "</div>"
      ],
      "text/plain": [
       "   AVG(COUNT)\n",
       "0    1.012173"
      ]
     },
     "execution_count": 112,
     "metadata": {},
     "output_type": "execute_result"
    }
   ],
   "source": [
    "descriptionavg_df = pd.read_sql_query(topicavgdescrquery, connection)\n",
    "descriptionavg_df.head()"
   ]
  },
  {
   "cell_type": "code",
   "execution_count": null,
   "metadata": {},
   "outputs": [],
   "source": [
    "topicavgdocquery = '''SELECT AVG(COUNT)\n",
    "                FROM\n",
    "                (SELECT COUNT (*) AS Count\n",
    "                FROM review\n",
    "\n",
    "                GROUP BY\n",
    "                Document\n",
    "                ) as counts'''"
   ]
  },
  {
   "cell_type": "code",
   "execution_count": null,
   "metadata": {},
   "outputs": [
    {
     "data": {
      "text/html": [
       "<div>\n",
       "<style scoped>\n",
       "    .dataframe tbody tr th:only-of-type {\n",
       "        vertical-align: middle;\n",
       "    }\n",
       "\n",
       "    .dataframe tbody tr th {\n",
       "        vertical-align: top;\n",
       "    }\n",
       "\n",
       "    .dataframe thead th {\n",
       "        text-align: right;\n",
       "    }\n",
       "</style>\n",
       "<table border=\"1\" class=\"dataframe\">\n",
       "  <thead>\n",
       "    <tr style=\"text-align: right;\">\n",
       "      <th></th>\n",
       "      <th>AVG(COUNT)</th>\n",
       "    </tr>\n",
       "  </thead>\n",
       "  <tbody>\n",
       "    <tr>\n",
       "      <th>0</th>\n",
       "      <td>1.952747</td>\n",
       "    </tr>\n",
       "  </tbody>\n",
       "</table>\n",
       "</div>"
      ],
      "text/plain": [
       "   AVG(COUNT)\n",
       "0    1.952747"
      ]
     },
     "execution_count": 114,
     "metadata": {},
     "output_type": "execute_result"
    }
   ],
   "source": [
    "documentavg_df = pd.read_sql_query(topicavgdocquery, connection)\n",
    "documentavg_df.head()"
   ]
  },
  {
   "cell_type": "code",
   "execution_count": null,
   "metadata": {},
   "outputs": [],
   "source": [
    "topicsentimentquery = '''SELECT \n",
    "        (SIA_COMPOUND + Textblob_Polarity)/2 as sentiment,\n",
    "        Topic\n",
    "        \n",
    "        From review\n",
    "        \n",
    "        \n",
    "        \n",
    "        GROUP BY\n",
    "        sentiment'''"
   ]
  },
  {
   "cell_type": "code",
   "execution_count": null,
   "metadata": {},
   "outputs": [
    {
     "data": {
      "text/html": [
       "<div>\n",
       "<style scoped>\n",
       "    .dataframe tbody tr th:only-of-type {\n",
       "        vertical-align: middle;\n",
       "    }\n",
       "\n",
       "    .dataframe tbody tr th {\n",
       "        vertical-align: top;\n",
       "    }\n",
       "\n",
       "    .dataframe thead th {\n",
       "        text-align: right;\n",
       "    }\n",
       "</style>\n",
       "<table border=\"1\" class=\"dataframe\">\n",
       "  <thead>\n",
       "    <tr style=\"text-align: right;\">\n",
       "      <th></th>\n",
       "      <th>sentiment</th>\n",
       "      <th>Topic</th>\n",
       "    </tr>\n",
       "  </thead>\n",
       "  <tbody>\n",
       "    <tr>\n",
       "      <th>0</th>\n",
       "      <td>-0.887883</td>\n",
       "      <td>color</td>\n",
       "    </tr>\n",
       "    <tr>\n",
       "      <th>1</th>\n",
       "      <td>-0.884200</td>\n",
       "      <td>cut</td>\n",
       "    </tr>\n",
       "    <tr>\n",
       "      <th>2</th>\n",
       "      <td>-0.859200</td>\n",
       "      <td>coat</td>\n",
       "    </tr>\n",
       "    <tr>\n",
       "      <th>3</th>\n",
       "      <td>-0.840400</td>\n",
       "      <td>cut</td>\n",
       "    </tr>\n",
       "    <tr>\n",
       "      <th>4</th>\n",
       "      <td>-0.824300</td>\n",
       "      <td>sleeves</td>\n",
       "    </tr>\n",
       "  </tbody>\n",
       "</table>\n",
       "</div>"
      ],
      "text/plain": [
       "   sentiment    Topic\n",
       "0  -0.887883    color\n",
       "1  -0.884200      cut\n",
       "2  -0.859200     coat\n",
       "3  -0.840400      cut\n",
       "4  -0.824300  sleeves"
      ]
     },
     "execution_count": 116,
     "metadata": {},
     "output_type": "execute_result"
    }
   ],
   "source": [
    "sentimenttopic_df = pd.read_sql_query(topicsentimentquery, connection)\n",
    "sentimenttopic_df.head()"
   ]
  },
  {
   "cell_type": "code",
   "execution_count": null,
   "metadata": {},
   "outputs": [
    {
     "name": "stdout",
     "output_type": "stream",
     "text": [
      "          sentiment\n",
      "count  15936.000000\n",
      "mean       0.290079\n",
      "std        0.316156\n",
      "min       -0.887883\n",
      "25%        0.066382\n",
      "50%        0.343375\n",
      "75%        0.536304\n",
      "max        0.968500\n"
     ]
    }
   ],
   "source": [
    "import pandas as pd\n",
    "import matplotlib.pyplot as plt\n",
    "df = pd.DataFrame(sentimenttopic_df, columns=['sentiment'])\n",
    "print(df.describe())"
   ]
  },
  {
   "cell_type": "code",
   "execution_count": null,
   "metadata": {},
   "outputs": [
    {
     "data": {
      "text/plain": [
       "(array([  31.,  103.,  448., 1190., 1930., 2268., 3327., 3919., 2357.,\n",
       "         363.]),\n",
       " array([-0.88788333, -0.702245  , -0.51660667, -0.33096833, -0.14533   ,\n",
       "         0.04030833,  0.22594667,  0.411585  ,  0.59722333,  0.78286167,\n",
       "         0.9685    ]),\n",
       " <BarContainer object of 10 artists>)"
      ]
     },
     "execution_count": 118,
     "metadata": {},
     "output_type": "execute_result"
    },
    {
     "data": {
      "image/png": "[encoded data removed]",
      "text/plain": [
       "<Figure size 500x500 with 1 Axes>"
      ]
     },
     "metadata": {},
     "output_type": "display_data"
    }
   ],
   "source": [
    "plt.hist(df['sentiment'])"
   ]
  },
  {
   "cell_type": "code",
   "execution_count": null,
   "metadata": {},
   "outputs": [
    {
     "name": "stdout",
     "output_type": "stream",
     "text": [
      "        Topic\n",
      "count   15936\n",
      "unique   1370\n",
      "top     dress\n",
      "freq     1111\n"
     ]
    }
   ],
   "source": [
    "#Topics per Description / Unique Topics / Top Topic \n",
    "import pandas as pd\n",
    "import matplotlib.pyplot as plt\n",
    "df = pd.DataFrame(sentimenttopic_df, columns=['Topic'])\n",
    "print(df.describe())"
   ]
  },
  {
   "cell_type": "code",
   "execution_count": null,
   "metadata": {},
   "outputs": [],
   "source": [
    "sentimentquery = '''SELECT \n",
    "        Description,\n",
    "        Document,\n",
    "        Topic,\n",
    "        COUNT(SIA_COMPOUND + Textblob_Polarity) / 2 as sentiment\n",
    "        \n",
    "        \n",
    "        \n",
    "        \n",
    "        FROM review\n",
    "        \n",
    "        GROUP BY\n",
    "        Description'''"
   ]
  },
  {
   "cell_type": "code",
   "execution_count": null,
   "metadata": {},
   "outputs": [
    {
     "data": {
      "text/html": [
       "<div>\n",
       "<style scoped>\n",
       "    .dataframe tbody tr th:only-of-type {\n",
       "        vertical-align: middle;\n",
       "    }\n",
       "\n",
       "    .dataframe tbody tr th {\n",
       "        vertical-align: top;\n",
       "    }\n",
       "\n",
       "    .dataframe thead th {\n",
       "        text-align: right;\n",
       "    }\n",
       "</style>\n",
       "<table border=\"1\" class=\"dataframe\">\n",
       "  <thead>\n",
       "    <tr style=\"text-align: right;\">\n",
       "      <th></th>\n",
       "      <th>Description</th>\n",
       "      <th>Document</th>\n",
       "      <th>Topic</th>\n",
       "      <th>sentiment</th>\n",
       "    </tr>\n",
       "  </thead>\n",
       "  <tbody>\n",
       "    <tr>\n",
       "      <th>0</th>\n",
       "      <td>\\n\\nlooking at the pictures online, i thought ...</td>\n",
       "      <td>17681</td>\n",
       "      <td>coat</td>\n",
       "      <td>0</td>\n",
       "    </tr>\n",
       "    <tr>\n",
       "      <th>1</th>\n",
       "      <td>\\r\\n\\r\\nretailer accepted the return with a ha...</td>\n",
       "      <td>8159</td>\n",
       "      <td>retailer</td>\n",
       "      <td>0</td>\n",
       "    </tr>\n",
       "    <tr>\n",
       "      <th>2</th>\n",
       "      <td>\\r\\n\\r\\nwanted to love this as the style is ve...</td>\n",
       "      <td>7871</td>\n",
       "      <td>style</td>\n",
       "      <td>0</td>\n",
       "    </tr>\n",
       "    <tr>\n",
       "      <th>3</th>\n",
       "      <td>\\r\\nas the reviewer say, it is very thick wool...</td>\n",
       "      <td>13044</td>\n",
       "      <td>reviewer</td>\n",
       "      <td>0</td>\n",
       "    </tr>\n",
       "    <tr>\n",
       "      <th>4</th>\n",
       "      <td>\\r\\nbought a similar maeve dress last year and...</td>\n",
       "      <td>3979</td>\n",
       "      <td>one</td>\n",
       "      <td>0</td>\n",
       "    </tr>\n",
       "  </tbody>\n",
       "</table>\n",
       "</div>"
      ],
      "text/plain": [
       "                                         Description  Document     Topic  \\\n",
       "0  \\n\\nlooking at the pictures online, i thought ...     17681      coat   \n",
       "1  \\r\\n\\r\\nretailer accepted the return with a ha...      8159  retailer   \n",
       "2  \\r\\n\\r\\nwanted to love this as the style is ve...      7871     style   \n",
       "3  \\r\\nas the reviewer say, it is very thick wool...     13044  reviewer   \n",
       "4  \\r\\nbought a similar maeve dress last year and...      3979       one   \n",
       "\n",
       "   sentiment  \n",
       "0          0  \n",
       "1          0  \n",
       "2          0  \n",
       "3          0  \n",
       "4          0  "
      ]
     },
     "execution_count": 121,
     "metadata": {},
     "output_type": "execute_result"
    }
   ],
   "source": [
    "sentimentavg_df = pd.read_sql_query(sentimentquery, connection)\n",
    "sentimentavg_df.head()"
   ]
  },
  {
   "cell_type": "code",
   "execution_count": null,
   "metadata": {},
   "outputs": [],
   "source": [
    "sentimentavgquery = '''SELECT AVG(COUNT)\n",
    "                FROM\n",
    "                (SELECT COUNT (*) AS Count\n",
    "                FROM review\n",
    "\n",
    "                GROUP BY\n",
    "                Description\n",
    "                ) as counts'''"
   ]
  },
  {
   "cell_type": "code",
   "execution_count": null,
   "metadata": {},
   "outputs": [
    {
     "data": {
      "text/html": [
       "<div>\n",
       "<style scoped>\n",
       "    .dataframe tbody tr th:only-of-type {\n",
       "        vertical-align: middle;\n",
       "    }\n",
       "\n",
       "    .dataframe tbody tr th {\n",
       "        vertical-align: top;\n",
       "    }\n",
       "\n",
       "    .dataframe thead th {\n",
       "        text-align: right;\n",
       "    }\n",
       "</style>\n",
       "<table border=\"1\" class=\"dataframe\">\n",
       "  <thead>\n",
       "    <tr style=\"text-align: right;\">\n",
       "      <th></th>\n",
       "      <th>AVG(COUNT)</th>\n",
       "    </tr>\n",
       "  </thead>\n",
       "  <tbody>\n",
       "    <tr>\n",
       "      <th>0</th>\n",
       "      <td>1.012173</td>\n",
       "    </tr>\n",
       "  </tbody>\n",
       "</table>\n",
       "</div>"
      ],
      "text/plain": [
       "   AVG(COUNT)\n",
       "0    1.012173"
      ]
     },
     "execution_count": 129,
     "metadata": {},
     "output_type": "execute_result"
    }
   ],
   "source": [
    "#AVG sentiment per Description\n",
    "sentimentdescravg_df = pd.read_sql_query(sentimentavgquery, connection)\n",
    "sentimentdescravg_df.head()"
   ]
  },
  {
   "cell_type": "code",
   "execution_count": null,
   "metadata": {},
   "outputs": [],
   "source": [
    "sentimentavgquery = '''SELECT AVG(COUNT)\n",
    "                FROM\n",
    "                (SELECT COUNT (*) AS Count\n",
    "                FROM review\n",
    "\n",
    "                GROUP BY\n",
    "                Document\n",
    "                ) as counts'''"
   ]
  },
  {
   "cell_type": "code",
   "execution_count": null,
   "metadata": {},
   "outputs": [
    {
     "data": {
      "text/html": [
       "<div>\n",
       "<style scoped>\n",
       "    .dataframe tbody tr th:only-of-type {\n",
       "        vertical-align: middle;\n",
       "    }\n",
       "\n",
       "    .dataframe tbody tr th {\n",
       "        vertical-align: top;\n",
       "    }\n",
       "\n",
       "    .dataframe thead th {\n",
       "        text-align: right;\n",
       "    }\n",
       "</style>\n",
       "<table border=\"1\" class=\"dataframe\">\n",
       "  <thead>\n",
       "    <tr style=\"text-align: right;\">\n",
       "      <th></th>\n",
       "      <th>AVG(COUNT)</th>\n",
       "    </tr>\n",
       "  </thead>\n",
       "  <tbody>\n",
       "    <tr>\n",
       "      <th>0</th>\n",
       "      <td>1.952747</td>\n",
       "    </tr>\n",
       "  </tbody>\n",
       "</table>\n",
       "</div>"
      ],
      "text/plain": [
       "   AVG(COUNT)\n",
       "0    1.952747"
      ]
     },
     "execution_count": 131,
     "metadata": {},
     "output_type": "execute_result"
    }
   ],
   "source": [
    "sentimentdocavg_df = pd.read_sql_query(sentimentavgquery, connection)\n",
    "sentimentdocavg_df.head()"
   ]
  }
 ],
 "metadata": {
  "kernelspec": {
   "display_name": "Python 3.10.1 64-bit",
   "language": "python",
   "name": "python3"
  },
  "language_info": {
   "codemirror_mode": {
    "name": "ipython",
    "version": 3
   },
   "file_extension": ".py",
   "mimetype": "text/x-python",
   "name": "python",
   "nbconvert_exporter": "python",
   "pygments_lexer": "ipython3",
   "version": "3.10.1"
  },
  "orig_nbformat": 4,
  "vscode": {
   "interpreter": {
    "hash": "369f2c481f4da34e4445cda3fffd2e751bd1c4d706f27375911949ba6bb62e1c"
   }
  }
 },
 "nbformat": 4,
 "nbformat_minor": 2
}
